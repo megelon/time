{
 "cells": [
  {
   "cell_type": "code",
   "execution_count": 74,
   "metadata": {},
   "outputs": [],
   "source": [
    "import pandas as pd\n",
    "df=pd.read_csv('https://raw.githubusercontent.com/megelon/datasets/master/datos.csv')\n",
    "df['order_demand']=df.order_demand.astype(float).fillna(0)\n",
    "df.head(1)"
   ]
  },
  {
   "cell_type": "code",
   "execution_count": 122,
   "metadata": {},
   "outputs": [
    {
     "data": {
      "text/plain": [
       "0.0"
      ]
     },
     "execution_count": 122,
     "metadata": {},
     "output_type": "execute_result"
    }
   ],
   "source": [
    "min(list(set(df.order_demand)))"
   ]
  },
  {
   "cell_type": "code",
   "execution_count": 105,
   "metadata": {},
   "outputs": [],
   "source": [
    "df.to_csv(\"/home/megelon/madgit/datasets/data.csv\", index=False) "
   ]
  },
  {
   "cell_type": "code",
   "execution_count": 106,
   "metadata": {},
   "outputs": [],
   "source": [
    "df1=pd.read_csv(\"/home/megelon/madgit/datasets/data.csv\")"
   ]
  },
  {
   "cell_type": "code",
   "execution_count": 107,
   "metadata": {},
   "outputs": [],
   "source": [
    "df['order_demand']=df.order_demand.astype(float)"
   ]
  },
  {
   "cell_type": "code",
   "execution_count": 108,
   "metadata": {},
   "outputs": [
    {
     "data": {
      "text/plain": [
       "product_code         object\n",
       "warehouse            object\n",
       "product_category     object\n",
       "date                 object\n",
       "order_demand        float64\n",
       "dtype: object"
      ]
     },
     "execution_count": 108,
     "metadata": {},
     "output_type": "execute_result"
    }
   ],
   "source": [
    "df1.dtypes"
   ]
  },
  {
   "cell_type": "code",
   "execution_count": 109,
   "metadata": {},
   "outputs": [],
   "source": [
    "df[\"date\"] = pd.to_datetime(df.date)"
   ]
  },
  {
   "cell_type": "code",
   "execution_count": 110,
   "metadata": {},
   "outputs": [
    {
     "data": {
      "text/plain": [
       "product_code                object\n",
       "warehouse                   object\n",
       "product_category            object\n",
       "date                datetime64[ns]\n",
       "order_demand               float64\n",
       "dtype: object"
      ]
     },
     "execution_count": 110,
     "metadata": {},
     "output_type": "execute_result"
    }
   ],
   "source": [
    "df.dtypes"
   ]
  },
  {
   "cell_type": "markdown",
   "metadata": {},
   "source": [
    "# creacion de variables"
   ]
  },
  {
   "cell_type": "code",
   "execution_count": 142,
   "metadata": {},
   "outputs": [],
   "source": [
    "dft=df[['date','order_demand']].sort_values(by='date').dropna()"
   ]
  },
  {
   "cell_type": "code",
   "execution_count": 143,
   "metadata": {},
   "outputs": [
    {
     "data": {
      "text/plain": [
       "1729"
      ]
     },
     "execution_count": 143,
     "metadata": {},
     "output_type": "execute_result"
    }
   ],
   "source": [
    "len(list(set(list(dft.date))))"
   ]
  },
  {
   "cell_type": "code",
   "execution_count": 144,
   "metadata": {},
   "outputs": [
    {
     "data": {
      "text/html": [
       "<div>\n",
       "<style scoped>\n",
       "    .dataframe tbody tr th:only-of-type {\n",
       "        vertical-align: middle;\n",
       "    }\n",
       "\n",
       "    .dataframe tbody tr th {\n",
       "        vertical-align: top;\n",
       "    }\n",
       "\n",
       "    .dataframe thead th {\n",
       "        text-align: right;\n",
       "    }\n",
       "</style>\n",
       "<table border=\"1\" class=\"dataframe\">\n",
       "  <thead>\n",
       "    <tr style=\"text-align: right;\">\n",
       "      <th></th>\n",
       "      <th>order_demand</th>\n",
       "    </tr>\n",
       "    <tr>\n",
       "      <th>date</th>\n",
       "      <th></th>\n",
       "    </tr>\n",
       "  </thead>\n",
       "  <tbody>\n",
       "    <tr>\n",
       "      <th>2011-01-08</th>\n",
       "      <td>2.0</td>\n",
       "    </tr>\n",
       "    <tr>\n",
       "      <th>2011-05-31</th>\n",
       "      <td>108.0</td>\n",
       "    </tr>\n",
       "  </tbody>\n",
       "</table>\n",
       "</div>"
      ],
      "text/plain": [
       "            order_demand\n",
       "date                    \n",
       "2011-01-08           2.0\n",
       "2011-05-31         108.0"
      ]
     },
     "execution_count": 144,
     "metadata": {},
     "output_type": "execute_result"
    }
   ],
   "source": [
    "dft=dft.set_index('date')\n",
    "dft.head(2)"
   ]
  },
  {
   "cell_type": "code",
   "execution_count": 145,
   "metadata": {},
   "outputs": [],
   "source": [
    "dft['dow']=dft.index.dayofweek"
   ]
  },
  {
   "cell_type": "code",
   "execution_count": 146,
   "metadata": {},
   "outputs": [
    {
     "data": {
      "text/html": [
       "<div>\n",
       "<style scoped>\n",
       "    .dataframe tbody tr th:only-of-type {\n",
       "        vertical-align: middle;\n",
       "    }\n",
       "\n",
       "    .dataframe tbody tr th {\n",
       "        vertical-align: top;\n",
       "    }\n",
       "\n",
       "    .dataframe thead th {\n",
       "        text-align: right;\n",
       "    }\n",
       "</style>\n",
       "<table border=\"1\" class=\"dataframe\">\n",
       "  <thead>\n",
       "    <tr style=\"text-align: right;\">\n",
       "      <th></th>\n",
       "      <th>order_demand</th>\n",
       "      <th>dow</th>\n",
       "    </tr>\n",
       "    <tr>\n",
       "      <th>date</th>\n",
       "      <th></th>\n",
       "      <th></th>\n",
       "    </tr>\n",
       "  </thead>\n",
       "  <tbody>\n",
       "    <tr>\n",
       "      <th>2011-01-08</th>\n",
       "      <td>2.0</td>\n",
       "      <td>5</td>\n",
       "    </tr>\n",
       "    <tr>\n",
       "      <th>2011-05-31</th>\n",
       "      <td>108.0</td>\n",
       "      <td>1</td>\n",
       "    </tr>\n",
       "  </tbody>\n",
       "</table>\n",
       "</div>"
      ],
      "text/plain": [
       "            order_demand  dow\n",
       "date                         \n",
       "2011-01-08           2.0    5\n",
       "2011-05-31         108.0    1"
      ]
     },
     "execution_count": 146,
     "metadata": {},
     "output_type": "execute_result"
    }
   ],
   "source": [
    "dft.head(2)"
   ]
  },
  {
   "cell_type": "code",
   "execution_count": 147,
   "metadata": {},
   "outputs": [
    {
     "data": {
      "text/plain": [
       "order_demand    float64\n",
       "dow               int64\n",
       "dtype: object"
      ]
     },
     "execution_count": 147,
     "metadata": {},
     "output_type": "execute_result"
    }
   ],
   "source": [
    "dft.dtypes"
   ]
  },
  {
   "cell_type": "markdown",
   "metadata": {},
   "source": [
    "# kmeans"
   ]
  },
  {
   "cell_type": "code",
   "execution_count": null,
   "metadata": {},
   "outputs": [
    {
     "name": "stderr",
     "output_type": "stream",
     "text": [
      "/home/megelon/.local/lib/python3.6/site-packages/sklearn/utils/deprecation.py:87: FutureWarning: Function calinski_harabaz_score is deprecated; Function 'calinski_harabaz_score' has been renamed to 'calinski_harabasz_score' and will be removed in version 0.23.\n",
      "  warnings.warn(msg, category=FutureWarning)\n"
     ]
    }
   ],
   "source": [
    "from sklearn import metrics\n",
    "from scipy.spatial.distance import cdist\n",
    "from sklearn.cluster import KMeans\n",
    "\n",
    "clusters=range(2,15)\n",
    "meandist=[]\n",
    "\n",
    "ch=[]\n",
    "ss=[]\n",
    "l_k=[]\n",
    "\n",
    "for k in clusters:\n",
    "    model=KMeans(n_clusters=k)\n",
    "    model.fit(dft)\n",
    "    labels=model.predict(dft)\n",
    "    meandist.append(sum(np.min(cdist(dft, model.cluster_centers_, 'euclidean'), axis=1))\n",
    "    / dft.shape[0])\n",
    "    \n",
    "    ch.append(metrics.calinski_harabaz_score(dft, labels))\n",
    "    ss.append(metrics.silhouette_score(dft, labels, metric='euclidean'))\n",
    "    l_k.append(k)\n",
    "\n",
    "df_criterios=pd.DataFrame(data=meandist,columns=['meandist'])\n",
    "df_criterios['k']=l_k\n",
    "df_criterios['calinski_harabas']=ch\n",
    "df_criterios['silhouette']=ss    \n",
    "\n",
    "#Codo: Distancia euclideana mínima media\n",
    "y = meandist\n",
    "z = l_k\n",
    "n = meandist\n",
    "\n",
    "fig, ax = plt.subplots()\n",
    "ax.set_title('Diagrama de Codo', fontdict={'fontsize': 20}, loc='center', pad=None)\n",
    "ax.plot(z, y, 'orange')\n",
    "ax.set_ylabel('Distancia euclideana mínima media', color='black')\n",
    "#ax.tick_params('y', colors='g')\n",
    "\n",
    "for i, txt in enumerate(n):\n",
    "    ax.annotate(int(txt), (z[i], y[i]))\n",
    "\n",
    "#candinski\n",
    "y = ch\n",
    "z = l_k\n",
    "n = ch\n",
    "\n",
    "fig, ax = plt.subplots()\n",
    "ax.set_title('Criterio de parada', fontdict={'fontsize': 20}, loc='center', pad=None)\n",
    "ax.plot(z, y, 'g--')\n",
    "ax.set_ylabel('Calinski Harabas', color='g')\n",
    "#ax.tick_params('y', colors='g')\n",
    "\n",
    "for i, txt in enumerate(n):\n",
    "    ax.annotate(int(txt), (z[i], y[i]))\n",
    "\n",
    "y = ss\n",
    "z = l_k\n",
    "n = ss\n",
    "\n",
    "ax2 = ax.twinx()\n",
    "s2 = ss\n",
    "ax2.plot(z, s2,'b--')\n",
    "ax2.set_ylabel('Silhouette', color='b')\n",
    "#ax2.tick_params('y', colors='b')\n",
    "\n",
    "for i, txt in enumerate(n):\n",
    "    ax2.annotate(round(txt,2), (z[i], y[i]))"
   ]
  },
  {
   "cell_type": "markdown",
   "metadata": {},
   "source": [
    "# Hierarchical"
   ]
  },
  {
   "cell_type": "code",
   "execution_count": null,
   "metadata": {},
   "outputs": [],
   "source": [
    "from scipy.cluster.hierarchy import linkage, dendrogram\n",
    "from scipy.cluster.hierarchy import fcluster\n",
    "from scipy.cluster.hierarchy import cophenet\n",
    "from scipy.spatial.distance import pdist\n",
    "from sklearn import metrics\n",
    "\n",
    "l_method=[]\n",
    "l_metric=[]\n",
    "l_evaluate=[]\n",
    "\n",
    "for method in ['single','complete','average','weighted']:\n",
    "    for metric in ['cityblock', 'correlation', 'cosine', 'euclidean']:\n",
    "        link_matrix = linkage(dft, method=method,metric=metric)\n",
    "        c, coph_dists = cophenet(link_matrix, pdist(dft))\n",
    "        l_evaluate.append(c)\n",
    "        l_method.append(method)\n",
    "        l_metric.append(metric)\n",
    "\n",
    "df_evaluate=pd.DataFrame(data=l_method, columns=['metodo'])\n",
    "df_evaluate['metrica']=l_metric\n",
    "df_evaluate['dist_cofenetica']=l_evaluate\n",
    "df_evaluate=df_evaluate.sort_values(by='dist_cofenetica', ascending=False)\n",
    "\n",
    "method=df_evaluate.iloc[0,0]\n",
    "metric=df_evaluate.iloc[0,1]\n",
    "\n",
    "link_matrix = linkage(dft, method=method,metric=metric)\n",
    "\n",
    "print(method + \" : \" + metric)\n",
    "df_evaluate.head()"
   ]
  },
  {
   "cell_type": "code",
   "execution_count": null,
   "metadata": {},
   "outputs": [],
   "source": []
  }
 ],
 "metadata": {
  "kernelspec": {
   "display_name": "Python 3",
   "language": "python",
   "name": "python3"
  },
  "language_info": {
   "codemirror_mode": {
    "name": "ipython",
    "version": 3
   },
   "file_extension": ".py",
   "mimetype": "text/x-python",
   "name": "python",
   "nbconvert_exporter": "python",
   "pygments_lexer": "ipython3",
   "version": "3.6.9"
  }
 },
 "nbformat": 4,
 "nbformat_minor": 4
}
